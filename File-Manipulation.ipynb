{
 "cells": [
  {
   "cell_type": "code",
   "execution_count": 180,
   "metadata": {},
   "outputs": [],
   "source": [
    "import pandas as pd\n",
    "import numpy as np\n",
    "import os\n",
    "import shutil\n",
    "from collections import OrderedDict\n",
    "from datetime import datetime, timedelta\n",
    "import time\n",
    "import math\n",
    "\n",
    "from tqdm import tqdm"
   ]
  },
  {
   "cell_type": "markdown",
   "metadata": {},
   "source": [
    "# Create Results Files"
   ]
  },
  {
   "cell_type": "code",
   "execution_count": 134,
   "metadata": {},
   "outputs": [],
   "source": [
    "def create_results_files(comp_chart_path, results_path):\n",
    "    '''\n",
    "        Will grab the .2 file from each comprehensive chart directory\n",
    "        \n",
    "        Args:\n",
    "            comp_chart_path (string): path to the comprehensive chart directories\n",
    "            results_path (string): path to directory in which to save results files\n",
    "            \n",
    "        Returns:\n",
    "            Nothing        \n",
    "    '''\n",
    "    chart_files = []\n",
    "    for subdir, dirs, files in os.walk(comp_chart_path):\n",
    "        for file in files:\n",
    "            if file[-1] == '2':\n",
    "                chart_files.append(subdir + '/' +file)\n",
    "       \n",
    "    # Delete files in results directory\n",
    "    \n",
    "    # Copy files\n",
    "    for file in chart_files:\n",
    "        shutil.copy(file, results_path)\n",
    "            \n",
    "create_results_files('./comp_chart_files/', './results_files/')"
   ]
  },
  {
   "cell_type": "code",
   "execution_count": 135,
   "metadata": {},
   "outputs": [
    {
     "data": {
      "text/plain": [
       "'\\n# Add date to input file name\\ninput_path = \\'./drf/\\'\\ninput_files = [input_path + file for file in os.listdir(input_path) if file.endswith(\".DRF\")]\\n\\n\\nfor file in input_files:\\n    new_name = file[6:-4] + \\'2018.DRF\\'\\n    shutil.copy(file, \\'./temp/{}\\'.format(new_name))\\n'"
      ]
     },
     "execution_count": 135,
     "metadata": {},
     "output_type": "execute_result"
    }
   ],
   "source": [
    "'''\n",
    "# Add date to input file name\n",
    "input_path = './drf/'\n",
    "input_files = [input_path + file for file in os.listdir(input_path) if file.endswith(\".DRF\")]\n",
    "\n",
    "\n",
    "for file in input_files:\n",
    "    new_name = file[6:-4] + '2018.DRF'\n",
    "    shutil.copy(file, './temp/{}'.format(new_name))\n",
    "'''"
   ]
  },
  {
   "cell_type": "markdown",
   "metadata": {},
   "source": [
    "# Find All Pairs of Input/Results Files"
   ]
  },
  {
   "cell_type": "code",
   "execution_count": 136,
   "metadata": {},
   "outputs": [],
   "source": [
    "def find_file_pairs(input_path, results_path):\n",
    "    '''\n",
    "        Find matching input/output files\n",
    "        \n",
    "        Args:\n",
    "            input_path (string): relative path to input files\n",
    "            results_path (string): relative path to results files\n",
    "            \n",
    "        Returns:\n",
    "            (list) list of (input_file,results_file) pairs\n",
    "    '''\n",
    "    \n",
    "    # Get a list of all input files and results files\n",
    "    input_files = [input_path + file for file in os.listdir(input_path) if file.endswith(\".DRF\")]\n",
    "    results_files = [results_path + file for file in os.listdir(results_path) if file.endswith('.2')]\n",
    "    \n",
    "    # Get names of files w/o directories/extensions\n",
    "    input_names = sorted([file[len(input_path) : -4] for file in input_files])\n",
    "    results_names = sorted([file[len(results_path) : -2] for file in results_files])\n",
    "    \n",
    "    # Find matches \n",
    "    matches = [name for name in input_names if name in results_names]\n",
    "    \n",
    "    # Create list of input/results file pairs -- [(input_file, results_file),(...),...]\n",
    "    file_pairs = [('{}{}.DRF'.format(input_path, name), '{}{}.2'.format(results_path, name)) for name in matches]\n",
    "    \n",
    "    return file_pairs\n",
    "\n",
    "file_pairs = find_file_pairs(input_path='./input_files/', results_path='./results_files/')"
   ]
  },
  {
   "cell_type": "code",
   "execution_count": 137,
   "metadata": {},
   "outputs": [
    {
     "data": {
      "text/plain": [
       "402"
      ]
     },
     "execution_count": 137,
     "metadata": {},
     "output_type": "execute_result"
    }
   ],
   "source": [
    "len(file_pairs)"
   ]
  },
  {
   "cell_type": "markdown",
   "metadata": {},
   "source": [
    "# Add Number of Entrants to Files"
   ]
  },
  {
   "cell_type": "code",
   "execution_count": 138,
   "metadata": {},
   "outputs": [],
   "source": [
    "def add_entrants(input_file, results_file):\n",
    "    '''\n",
    "        Find highest post position for each race and use as number of entrants\n",
    "        \n",
    "        Args:\n",
    "            file (string): path to results file\n",
    "            \n",
    "        Returns:\n",
    "            Nothing\n",
    "    '''\n",
    "    # Load files \n",
    "    input_df = pd.read_csv(input_file, header=None)\n",
    "    res_df = pd.read_csv(results_file, header=None)\n",
    "    \n",
    "    # Find how many races are in each\n",
    "    race_col = 2\n",
    "    num_input_races = input_df[race_col].max()\n",
    "    num_res_races = res_df[race_col].max()\n",
    "    \n",
    "    # TODO: Assert that race counts are equal\n",
    "        \n",
    "    # For each race, count entrants, append as last column\n",
    "    input_last_col = input_df.columns.max() + 1\n",
    "    race_entrants = {}\n",
    "    for race in range(1,num_input_races+1):\n",
    "        entrants = input_df.loc[input_df[race_col] == race].shape[0]\n",
    "        iloc = input_df.loc[input_df[race_col] == race].index\n",
    "        input_df.loc[iloc, input_last_col] = pd.Series(entrants, index=iloc)\n",
    "        race_entrants[race] = entrants\n",
    "        \n",
    "    # Apply those same entrants numbers to results file\n",
    "    res_last_col = res_df.columns.max() + 1\n",
    "    for race in range(1, num_res_races+1):\n",
    "        iloc = res_df.loc[res_df[race_col] == race].index\n",
    "        res_df.loc[iloc, res_last_col] = pd.Series(race_entrants[race], index=iloc)\n",
    "        \n",
    "    # Save back to file\n",
    "    input_df.to_csv(input_file, header=False, index=False)\n",
    "    res_df.to_csv(results_file, header=False, index=False)\n",
    "\n",
    "    \n",
    "# Iterate through all files in file_pairs and add number of entrants\n",
    "for pair in file_pairs:\n",
    "    input_file = pair[0]\n",
    "    res_file = pair[1]\n",
    "    add_entrants(input_file, res_file)"
   ]
  }
 ],
 "metadata": {
  "kernelspec": {
   "display_name": "Python [conda env:julie-stav-ws]",
   "language": "python",
   "name": "conda-env-julie-stav-ws-py"
  },
  "language_info": {
   "codemirror_mode": {
    "name": "ipython",
    "version": 3
   },
   "file_extension": ".py",
   "mimetype": "text/x-python",
   "name": "python",
   "nbconvert_exporter": "python",
   "pygments_lexer": "ipython3",
   "version": "3.5.6"
  }
 },
 "nbformat": 4,
 "nbformat_minor": 2
}
